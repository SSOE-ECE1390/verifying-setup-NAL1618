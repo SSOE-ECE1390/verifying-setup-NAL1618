{
 "cells": [
  {
   "cell_type": "markdown",
   "metadata": {},
   "source": [
    "# <font style=\"color:black\">Lecture 1: Homework Problem</font>\n",
    "\n",
    "In this first homework set, I want you to make sure that you can use GitHub, MS Code, and OpenCV.\n",
    "You should (already to be able to read this document), clone the Github classroom assignment and edit it in VS Code.  In this python notebook, do the following:\n",
    "\n",
    "* Load an (Grayscale) image  (‘Data/Apollo_11_Launch.jpg’)\n",
    "* View image\n",
    "* Crop image\n",
    "* Edit brightness of image\n",
    "* Rotate image\n",
    "* Save modified image"
   ]
  },
  {
   "cell_type": "code",
   "execution_count": 2,
   "metadata": {},
   "outputs": [
    {
     "name": "stdout",
     "output_type": "stream",
     "text": [
      "Final modified image saved as Data/Apollo_11_Modified.jpg\n"
     ]
    }
   ],
   "source": [
    "import cv2\n",
    "\n",
    "\n",
    "# 1. Load grayscale image\n",
    "img = cv2.imread(\"Data/Apollo_11_Launch.jpg\", cv2.IMREAD_GRAYSCALE)\n",
    "\n",
    "\n",
    "# 2. Crop (y1:y2, x1:x2)\n",
    "cropped = img[50:400, 100:500]\n",
    "\n",
    "# 3. Brightness adjustment (increase by 50)\n",
    "brighter = cv2.convertScaleAbs(cropped, alpha=1, beta=50)\n",
    "\n",
    "# 4. Rotate 90° clockwise\n",
    "final_img = cv2.rotate(brighter, cv2.ROTATE_90_CLOCKWISE)\n",
    "\n",
    "\n",
    "\n",
    "# 5. Save final modified image\n",
    "cv2.imwrite(\"Data/Apollo_11_Modified.jpg\", final_img)\n",
    "print(\"Final modified image saved as Data/Apollo_11_Modified.jpg\")\n",
    "\n"
   ]
  }
 ],
 "metadata": {
  "kernelspec": {
   "display_name": "ECE1390",
   "language": "python",
   "name": "python3"
  },
  "language_info": {
   "codemirror_mode": {
    "name": "ipython",
    "version": 3
   },
   "file_extension": ".py",
   "mimetype": "text/x-python",
   "name": "python",
   "nbconvert_exporter": "python",
   "pygments_lexer": "ipython3",
   "version": "3.12.11"
  }
 },
 "nbformat": 4,
 "nbformat_minor": 2
}
